{
 "cells": [
  {
   "cell_type": "code",
   "execution_count": 1,
   "id": "ed40804d",
   "metadata": {
    "scrolled": true
   },
   "outputs": [
    {
     "data": {
      "application/vnd.jupyter.widget-view+json": {
       "model_id": "f0965674bafb4011b3ac8f14760e861e",
       "version_major": 2,
       "version_minor": 0
      },
      "text/plain": [
       "Button(description='Click me', style=ButtonStyle())"
      ]
     },
     "metadata": {},
     "output_type": "display_data"
    },
    {
     "data": {
      "application/vnd.jupyter.widget-view+json": {
       "model_id": "a2eda71c786b4ce1933751a81cfd4b4a",
       "version_major": 2,
       "version_minor": 0
      },
      "text/plain": [
       "IntSlider(value=0, description='Slider')"
      ]
     },
     "metadata": {},
     "output_type": "display_data"
    },
    {
     "data": {
      "application/vnd.jupyter.widget-view+json": {
       "model_id": "93daac4144f54a0784f75ce4b21a83fa",
       "version_major": 2,
       "version_minor": 0
      },
      "text/plain": [
       "Text(value='', description='Enter Text:')"
      ]
     },
     "metadata": {},
     "output_type": "display_data"
    },
    {
     "data": {
      "application/vnd.jupyter.widget-view+json": {
       "model_id": "fab821200bde44ceb2cbe77e1cc149a9",
       "version_major": 2,
       "version_minor": 0
      },
      "text/plain": [
       "Dropdown(description='Select:', options=('Option 1', 'Option 2', 'Option 3'), value='Option 1')"
      ]
     },
     "metadata": {},
     "output_type": "display_data"
    },
    {
     "data": {
      "text/html": [
       "<style>\n",
       "/* Example of styling the button */\n",
       ".my-class button {\n",
       "    background-color: #EBEBEB;\n",
       "    color: #484848;\n",
       "    border-radius: 4px;\n",
       "    padding: 8px 16px;\n",
       "    font-size: 14px;\n",
       "}\n",
       "\n",
       "/* Example of styling the slider */\n",
       ".my-class .slider {\n",
       "    background-color: #EBEBEB;\n",
       "    color: #484848;\n",
       "    border-radius: 4px;\n",
       "    padding: 8px 16px;\n",
       "    font-size: 14px;\n",
       "}\n",
       "\n",
       "/* Example of styling the textbox */\n",
       ".my-class input[type=\"text\"] {\n",
       "    background-color: #EBEBEB;\n",
       "    color: #484848;\n",
       "    border-radius: 4px;\n",
       "    padding: 8px 16px;\n",
       "    font-size: 14px;\n",
       "}\n",
       "\n",
       "/* Example of styling the dropdown */\n",
       ".my-class select {\n",
       "    background-color: #EBEBEB;\n",
       "    color: #484848;\n",
       "    border-radius: 4px;\n",
       "    padding: 8px 16px;\n",
       "    font-size: 14px;\n",
       "}\n",
       "</style>"
      ],
      "text/plain": [
       "<IPython.core.display.HTML object>"
      ]
     },
     "execution_count": 1,
     "metadata": {},
     "output_type": "execute_result"
    }
   ],
   "source": [
    "# Import the necessary libraries\n",
    "import ipywidgets as widgets\n",
    "from IPython.display import display\n",
    "\n",
    "# Load the ebay-design-system css\n",
    "from IPython.core.display import HTML\n",
    "HTML('<link rel=\"stylesheet\" href=\"https://unpkg.com/ebay-design-system@latest/dist/css/ebay-design-system.css\" />')\n",
    "\n",
    "# Create a button and assign a CSS class\n",
    "button = widgets.Button(description='Click me', layout=widgets.Layout(container_class='my-class'))\n",
    "display(button)\n",
    "\n",
    "# Create a slider and assign a CSS class\n",
    "slider = widgets.IntSlider(description='Slider', layout=widgets.Layout(container_class='my-class'))\n",
    "display(slider)\n",
    "\n",
    "# Create a Text Box and assign a CSS class\n",
    "text = widgets.Text(description='Enter Text:', layout=widgets.Layout(container_class='my-class'))\n",
    "display(text)\n",
    "\n",
    "# Create a Dropdown and assign a CSS class\n",
    "dropdown = widgets.Dropdown(options=['Option 1', 'Option 2', 'Option 3'], value='Option 1', description='Select:', layout=widgets.Layout(container_class='my-class'))\n",
    "display(dropdown)\n",
    "\n",
    "# Style the widgets using CSS\n",
    "style = \"\"\"\n",
    "/* Example of styling the button */\n",
    ".my-class button {\n",
    "    background-color: #EBEBEB;\n",
    "    color: #484848;\n",
    "    border-radius: 4px;\n",
    "    padding: 8px 16px;\n",
    "    font-size: 14px;\n",
    "}\n",
    "\n",
    "/* Example of styling the slider */\n",
    ".my-class .slider {\n",
    "    background-color: #EBEBEB;\n",
    "    color: #484848;\n",
    "    border-radius: 4px;\n",
    "    padding: 8px 16px;\n",
    "    font-size: 14px;\n",
    "}\n",
    "\n",
    "/* Example of styling the textbox */\n",
    ".my-class input[type=\"text\"] {\n",
    "    background-color: #EBEBEB;\n",
    "    color: #484848;\n",
    "    border-radius: 4px;\n",
    "    padding: 8px 16px;\n",
    "    font-size: 14px;\n",
    "}\n",
    "\n",
    "/* Example of styling the dropdown */\n",
    ".my-class select {\n",
    "    background-color: #EBEBEB;\n",
    "    color: #484848;\n",
    "    border-radius: 4px;\n",
    "    padding: 8px 16px;\n",
    "    font-size: 14px;\n",
    "}\n",
    "\"\"\"\n",
    "HTML('<style>'+ style +'</style>')\n"
   ]
  },
  {
   "cell_type": "code",
   "execution_count": null,
   "id": "12f3b4da",
   "metadata": {},
   "outputs": [],
   "source": []
  }
 ],
 "metadata": {
  "kernelspec": {
   "display_name": "Python 3 (ipykernel)",
   "language": "python",
   "name": "python3"
  },
  "language_info": {
   "codemirror_mode": {
    "name": "ipython",
    "version": 3
   },
   "file_extension": ".py",
   "mimetype": "text/x-python",
   "name": "python",
   "nbconvert_exporter": "python",
   "pygments_lexer": "ipython3",
   "version": "3.10.9"
  }
 },
 "nbformat": 4,
 "nbformat_minor": 5
}
